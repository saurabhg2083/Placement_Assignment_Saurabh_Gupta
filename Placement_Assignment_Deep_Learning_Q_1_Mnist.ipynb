{
  "cells": [
    {
      "cell_type": "markdown",
      "id": "bca6ae88",
      "metadata": {
        "id": "bca6ae88"
      },
      "source": [
        "### Placement Assignment Deep Learning "
      ]
    },
    {
      "cell_type": "markdown",
      "id": "3418da9d",
      "metadata": {
        "id": "3418da9d"
      },
      "source": [
        "#### Question 1 - Implement 3 different CNN architectures with a comparison table for the MNSIT dataset using the Tensorflow library.\n",
        "Note -    \n",
        "  1. The model parameters for each architecture should not be more than 8000 parameters\n",
        "  2. Code comments should be given for proper code understanding.\n",
        "  3. The minimum accuracy for each accuracy should be at least 96%"
      ]
    },
    {
      "cell_type": "code",
      "execution_count": 12,
      "id": "88abdc50",
      "metadata": {
        "id": "88abdc50"
      },
      "outputs": [],
      "source": [
        "import numpy as np\n",
        "import tensorflow as tf\n",
        "from tensorflow.keras.datasets import mnist\n",
        "from tensorflow.keras.models import Sequential\n",
        "from tensorflow.keras.layers import Conv2D, MaxPool2D, Flatten, Dense"
      ]
    },
    {
      "cell_type": "code",
      "execution_count": 13,
      "id": "3f815f6c",
      "metadata": {
        "id": "3f815f6c"
      },
      "outputs": [],
      "source": [
        "# The data has already been sorted into training and test sets for us\n",
        "(train_data, train_labels), (test_data, test_labels) = mnist.load_data()\n"
      ]
    },
    {
      "cell_type": "code",
      "source": [
        "train_data[0].shape, train_labels.shape, train_data.shape, test_data.shape"
      ],
      "metadata": {
        "id": "XDrnDWrbwiza",
        "colab": {
          "base_uri": "https://localhost:8080/"
        },
        "outputId": "89090923-acbf-47be-bea3-92226d617bd7"
      },
      "id": "XDrnDWrbwiza",
      "execution_count": 14,
      "outputs": [
        {
          "output_type": "execute_result",
          "data": {
            "text/plain": [
              "((28, 28), (60000,), (60000, 28, 28), (10000, 28, 28))"
            ]
          },
          "metadata": {},
          "execution_count": 14
        }
      ]
    },
    {
      "cell_type": "code",
      "execution_count": 15,
      "id": "49060f3c",
      "metadata": {
        "id": "49060f3c",
        "colab": {
          "base_uri": "https://localhost:8080/",
          "height": 430
        },
        "outputId": "b7ce203d-e61d-4df6-9e0e-0e4b686748cf"
      },
      "outputs": [
        {
          "output_type": "display_data",
          "data": {
            "text/plain": [
              "<Figure size 640x480 with 1 Axes>"
            ],
            "image/png": "[encoded data removed]"
          },
          "metadata": {}
        }
      ],
      "source": [
        "import matplotlib.pyplot as plt\n",
        "plt.imshow(train_data[7]);"
      ]
    },
    {
      "cell_type": "code",
      "execution_count": 16,
      "id": "689dc732",
      "metadata": {
        "id": "689dc732",
        "colab": {
          "base_uri": "https://localhost:8080/"
        },
        "outputId": "ecb0e0f9-8c1e-404e-c7d0-b0d6d2f3f25b"
      },
      "outputs": [
        {
          "output_type": "execute_result",
          "data": {
            "text/plain": [
              "3"
            ]
          },
          "metadata": {},
          "execution_count": 16
        }
      ],
      "source": [
        "train_labels[7]"
      ]
    },
    {
      "cell_type": "code",
      "source": [
        "plt.imshow(train_data[17], cmap=plt.cm.binary) # change the colours to black & white\n",
        "plt.title(train_labels[17]);"
      ],
      "metadata": {
        "colab": {
          "base_uri": "https://localhost:8080/",
          "height": 452
        },
        "id": "hBxSowxaeXAk",
        "outputId": "394a9a44-c12c-416c-bc0a-5c156a84dc7d"
      },
      "id": "hBxSowxaeXAk",
      "execution_count": 17,
      "outputs": [
        {
          "output_type": "display_data",
          "data": {
            "text/plain": [
              "<Figure size 640x480 with 1 Axes>"
            ],
            "image/png": "[encoded data removed]"
          },
          "metadata": {}
        }
      ]
    },
    {
      "cell_type": "code",
      "source": [
        "import random\n",
        "plt.figure(figsize=(7, 7))\n",
        "for i in range(4):\n",
        "  ax = plt.subplot(2, 2, i + 1)\n",
        "  rand_index = random.choice(range(len(train_data)))\n",
        "  plt.imshow(train_data[rand_index], cmap=plt.cm.binary)\n",
        "  plt.title(train_labels[rand_index])\n",
        "  plt.axis(False)"
      ],
      "metadata": {
        "colab": {
          "base_uri": "https://localhost:8080/",
          "height": 598
        },
        "id": "BttSldpTeW8a",
        "outputId": "5a8dcbea-c42b-4f6e-f260-e0be8e5eb59c"
      },
      "id": "BttSldpTeW8a",
      "execution_count": 18,
      "outputs": [
        {
          "output_type": "display_data",
          "data": {
            "text/plain": [
              "<Figure size 700x700 with 4 Axes>"
            ],
            "image/png": "[encoded data removed]"
          },
          "metadata": {}
        }
      ]
    },
    {
      "cell_type": "code",
      "source": [
        "# Set random seed\n",
        "tf.random.set_seed(42)\n",
        "\n",
        "# Create the model\n",
        "model_1 = tf.keras.Sequential([\n",
        "  tf.keras.layers.Flatten(input_shape=(28, 28)), # input layer (we had to reshape 28x28 to 784, the Flatten layer does this for us)\n",
        "  tf.keras.layers.Dense(4, activation=\"relu\"),\n",
        "  tf.keras.layers.Dense(4, activation=\"relu\"),\n",
        "  tf.keras.layers.Dense(10, activation=\"softmax\") # output shape is 10, activation is softmax\n",
        "])\n",
        "\n",
        "# Compile the model\n",
        "model_1.compile(loss=tf.keras.losses.SparseCategoricalCrossentropy(), # different loss function for multiclass classifcation\n",
        "                 optimizer=tf.keras.optimizers.Adam(),\n",
        "                 metrics=[\"accuracy\"])\n",
        "\n",
        "# Fit the model\n",
        "model_1_history = model_1.fit(train_data,\n",
        "                                train_labels,\n",
        "                                epochs=10,\n",
        "                                validation_data=(test_data, test_labels)) "
      ],
      "metadata": {
        "colab": {
          "base_uri": "https://localhost:8080/"
        },
        "id": "EGdyY_kseW2r",
        "outputId": "e63c7269-281e-429d-97a6-5b2d4433c468"
      },
      "id": "EGdyY_kseW2r",
      "execution_count": 19,
      "outputs": [
        {
          "output_type": "stream",
          "name": "stdout",
          "text": [
            "Epoch 1/10\n",
            "1875/1875 [==============================] - 7s 3ms/step - loss: 2.2624 - accuracy: 0.2395 - val_loss: 1.8139 - val_accuracy: 0.2951\n",
            "Epoch 2/10\n",
            "1875/1875 [==============================] - 5s 3ms/step - loss: 1.7246 - accuracy: 0.3225 - val_loss: 1.6114 - val_accuracy: 0.3526\n",
            "Epoch 3/10\n",
            "1875/1875 [==============================] - 6s 3ms/step - loss: 1.5260 - accuracy: 0.3898 - val_loss: 1.4571 - val_accuracy: 0.4143\n",
            "Epoch 4/10\n",
            "1875/1875 [==============================] - 6s 3ms/step - loss: 1.4279 - accuracy: 0.4287 - val_loss: 1.3345 - val_accuracy: 0.4786\n",
            "Epoch 5/10\n",
            "1875/1875 [==============================] - 5s 3ms/step - loss: 1.2488 - accuracy: 0.5136 - val_loss: 1.1552 - val_accuracy: 0.5458\n",
            "Epoch 6/10\n",
            "1875/1875 [==============================] - 6s 3ms/step - loss: 1.1616 - accuracy: 0.5408 - val_loss: 1.1346 - val_accuracy: 0.5327\n",
            "Epoch 7/10\n",
            "1875/1875 [==============================] - 6s 3ms/step - loss: 1.1276 - accuracy: 0.5486 - val_loss: 1.1124 - val_accuracy: 0.5691\n",
            "Epoch 8/10\n",
            "1875/1875 [==============================] - 6s 3ms/step - loss: 1.1124 - accuracy: 0.5563 - val_loss: 1.1151 - val_accuracy: 0.5732\n",
            "Epoch 9/10\n",
            "1875/1875 [==============================] - 5s 3ms/step - loss: 1.1003 - accuracy: 0.5637 - val_loss: 1.0849 - val_accuracy: 0.5915\n",
            "Epoch 10/10\n",
            "1875/1875 [==============================] - 7s 4ms/step - loss: 1.0896 - accuracy: 0.5717 - val_loss: 1.0800 - val_accuracy: 0.5920\n"
          ]
        }
      ]
    },
    {
      "cell_type": "code",
      "source": [
        "model_1.summary()"
      ],
      "metadata": {
        "colab": {
          "base_uri": "https://localhost:8080/"
        },
        "id": "J9y6sZqVeWu0",
        "outputId": "b63aa937-2819-49de-fb51-4001164a29bc"
      },
      "id": "J9y6sZqVeWu0",
      "execution_count": 20,
      "outputs": [
        {
          "output_type": "stream",
          "name": "stdout",
          "text": [
            "Model: \"sequential_1\"\n",
            "_________________________________________________________________\n",
            " Layer (type)                Output Shape              Param #   \n",
            "=================================================================\n",
            " flatten_1 (Flatten)         (None, 784)               0         \n",
            "                                                                 \n",
            " dense_3 (Dense)             (None, 4)                 3140      \n",
            "                                                                 \n",
            " dense_4 (Dense)             (None, 4)                 20        \n",
            "                                                                 \n",
            " dense_5 (Dense)             (None, 10)                50        \n",
            "                                                                 \n",
            "=================================================================\n",
            "Total params: 3,210\n",
            "Trainable params: 3,210\n",
            "Non-trainable params: 0\n",
            "_________________________________________________________________\n"
          ]
        }
      ]
    },
    {
      "cell_type": "code",
      "source": [
        "# Check the min and max values of the training data\n",
        "train_data.min(), train_data.max()"
      ],
      "metadata": {
        "colab": {
          "base_uri": "https://localhost:8080/"
        },
        "id": "e_Y7UY4ge1Ha",
        "outputId": "63e84dc8-f05c-4b52-fc74-59b732e55880"
      },
      "id": "e_Y7UY4ge1Ha",
      "execution_count": 21,
      "outputs": [
        {
          "output_type": "execute_result",
          "data": {
            "text/plain": [
              "(0, 255)"
            ]
          },
          "metadata": {},
          "execution_count": 21
        }
      ]
    },
    {
      "cell_type": "code",
      "source": [
        "# Divide train and test images by the maximum value (normalize it)\n",
        "train_data = train_data / 255.0\n",
        "test_data = test_data / 255.0\n",
        "\n",
        "# Check the min and max values of the training data\n",
        "train_data.min(), train_data.max()"
      ],
      "metadata": {
        "colab": {
          "base_uri": "https://localhost:8080/"
        },
        "id": "5LSbkvIle1Ej",
        "outputId": "c5c5b71f-6cc9-48ea-9878-1e48ffa4c3f1"
      },
      "id": "5LSbkvIle1Ej",
      "execution_count": 22,
      "outputs": [
        {
          "output_type": "execute_result",
          "data": {
            "text/plain": [
              "(0.0, 1.0)"
            ]
          },
          "metadata": {},
          "execution_count": 22
        }
      ]
    },
    {
      "cell_type": "code",
      "source": [
        "# Set random seed\n",
        "tf.random.set_seed(42)\n",
        "\n",
        "# Create the model\n",
        "model_2 = tf.keras.Sequential([\n",
        "  tf.keras.layers.Flatten(input_shape=(28, 28)), # input layer (we had to reshape 28x28 to 784)\n",
        "  tf.keras.layers.Dense(4, activation=\"relu\"),\n",
        "  tf.keras.layers.Dense(4, activation=\"relu\"),\n",
        "  tf.keras.layers.Dense(10, activation=\"softmax\") # output shape is 10, activation is softmax\n",
        "])\n",
        "\n",
        "# Compile the model\n",
        "model_2.compile(loss=tf.keras.losses.SparseCategoricalCrossentropy(),\n",
        "                 optimizer=tf.keras.optimizers.Adam(),\n",
        "                 metrics=[\"accuracy\"])\n",
        "\n",
        "# Fit the model (to the normalized data)\n",
        "model_2_history = model_2.fit(train_data,\n",
        "                            train_labels,\n",
        "                            epochs=20,\n",
        "                            validation_data=(test_data, test_labels))"
      ],
      "metadata": {
        "colab": {
          "base_uri": "https://localhost:8080/"
        },
        "id": "JDvoigRce1CC",
        "outputId": "dc68e315-a514-46f4-93de-7abadace3549"
      },
      "id": "JDvoigRce1CC",
      "execution_count": 34,
      "outputs": [
        {
          "output_type": "stream",
          "name": "stdout",
          "text": [
            "Epoch 1/20\n",
            "1875/1875 [==============================] - 7s 3ms/step - loss: 1.1145 - accuracy: 0.6112 - val_loss: 0.6558 - val_accuracy: 0.7954\n",
            "Epoch 2/20\n",
            "1875/1875 [==============================] - 6s 3ms/step - loss: 0.6267 - accuracy: 0.8061 - val_loss: 0.5965 - val_accuracy: 0.8177\n",
            "Epoch 3/20\n",
            "1875/1875 [==============================] - 7s 4ms/step - loss: 0.5728 - accuracy: 0.8236 - val_loss: 0.5488 - val_accuracy: 0.8314\n",
            "Epoch 4/20\n",
            "1875/1875 [==============================] - 5s 3ms/step - loss: 0.5442 - accuracy: 0.8342 - val_loss: 0.5312 - val_accuracy: 0.8397\n",
            "Epoch 5/20\n",
            "1875/1875 [==============================] - 6s 3ms/step - loss: 0.5266 - accuracy: 0.8403 - val_loss: 0.5157 - val_accuracy: 0.8430\n",
            "Epoch 6/20\n",
            "1875/1875 [==============================] - 5s 3ms/step - loss: 0.5121 - accuracy: 0.8469 - val_loss: 0.5146 - val_accuracy: 0.8457\n",
            "Epoch 7/20\n",
            "1875/1875 [==============================] - 7s 4ms/step - loss: 0.5020 - accuracy: 0.8494 - val_loss: 0.5064 - val_accuracy: 0.8448\n",
            "Epoch 8/20\n",
            "1875/1875 [==============================] - 5s 3ms/step - loss: 0.4946 - accuracy: 0.8546 - val_loss: 0.4931 - val_accuracy: 0.8544\n",
            "Epoch 9/20\n",
            "1875/1875 [==============================] - 6s 3ms/step - loss: 0.4892 - accuracy: 0.8565 - val_loss: 0.4906 - val_accuracy: 0.8529\n",
            "Epoch 10/20\n",
            "1875/1875 [==============================] - 5s 3ms/step - loss: 0.4848 - accuracy: 0.8566 - val_loss: 0.4945 - val_accuracy: 0.8547\n",
            "Epoch 11/20\n",
            "1875/1875 [==============================] - 6s 3ms/step - loss: 0.4816 - accuracy: 0.8589 - val_loss: 0.4887 - val_accuracy: 0.8547\n",
            "Epoch 12/20\n",
            "1875/1875 [==============================] - 6s 3ms/step - loss: 0.4787 - accuracy: 0.8588 - val_loss: 0.4892 - val_accuracy: 0.8577\n",
            "Epoch 13/20\n",
            "1875/1875 [==============================] - 6s 3ms/step - loss: 0.4760 - accuracy: 0.8610 - val_loss: 0.4863 - val_accuracy: 0.8575\n",
            "Epoch 14/20\n",
            "1875/1875 [==============================] - 6s 3ms/step - loss: 0.4733 - accuracy: 0.8609 - val_loss: 0.4809 - val_accuracy: 0.8590\n",
            "Epoch 15/20\n",
            "1875/1875 [==============================] - 5s 3ms/step - loss: 0.4716 - accuracy: 0.8617 - val_loss: 0.4887 - val_accuracy: 0.8543\n",
            "Epoch 16/20\n",
            "1875/1875 [==============================] - 6s 3ms/step - loss: 0.4688 - accuracy: 0.8622 - val_loss: 0.5028 - val_accuracy: 0.8515\n",
            "Epoch 17/20\n",
            "1875/1875 [==============================] - 5s 3ms/step - loss: 0.4687 - accuracy: 0.8616 - val_loss: 0.4855 - val_accuracy: 0.8566\n",
            "Epoch 18/20\n",
            "1875/1875 [==============================] - 6s 3ms/step - loss: 0.4661 - accuracy: 0.8633 - val_loss: 0.4823 - val_accuracy: 0.8573\n",
            "Epoch 19/20\n",
            "1875/1875 [==============================] - 5s 3ms/step - loss: 0.4646 - accuracy: 0.8634 - val_loss: 0.4811 - val_accuracy: 0.8594\n",
            "Epoch 20/20\n",
            "1875/1875 [==============================] - 6s 3ms/step - loss: 0.4628 - accuracy: 0.8646 - val_loss: 0.4861 - val_accuracy: 0.8554\n"
          ]
        }
      ]
    },
    {
      "cell_type": "code",
      "source": [
        "model_2.summary()"
      ],
      "metadata": {
        "colab": {
          "base_uri": "https://localhost:8080/"
        },
        "id": "_tZydFw8e0_C",
        "outputId": "0bb0e8f0-a75a-441d-ce88-739a030d3a30"
      },
      "id": "_tZydFw8e0_C",
      "execution_count": 35,
      "outputs": [
        {
          "output_type": "stream",
          "name": "stdout",
          "text": [
            "Model: \"sequential_6\"\n",
            "_________________________________________________________________\n",
            " Layer (type)                Output Shape              Param #   \n",
            "=================================================================\n",
            " flatten_6 (Flatten)         (None, 784)               0         \n",
            "                                                                 \n",
            " dense_18 (Dense)            (None, 4)                 3140      \n",
            "                                                                 \n",
            " dense_19 (Dense)            (None, 4)                 20        \n",
            "                                                                 \n",
            " dense_20 (Dense)            (None, 10)                50        \n",
            "                                                                 \n",
            "=================================================================\n",
            "Total params: 3,210\n",
            "Trainable params: 3,210\n",
            "Non-trainable params: 0\n",
            "_________________________________________________________________\n"
          ]
        }
      ]
    },
    {
      "cell_type": "code",
      "source": [
        "# Set random seed\n",
        "tf.random.set_seed(42)\n",
        "\n",
        "# Create the model\n",
        "model_3 = tf.keras.Sequential([\n",
        "  tf.keras.layers.Flatten(input_shape=(28, 28)), # input layer (we had to reshape 28x28 to 784)\n",
        "  tf.keras.layers.Dense(8, activation=\"relu\"),\n",
        "  tf.keras.layers.Dense(16, activation=\"relu\"),\n",
        "  tf.keras.layers.Dense(10, activation=\"softmax\") # output shape is 10, activation is softmax\n",
        "])\n",
        "\n",
        "# Compile the model\n",
        "model_3.compile(loss=tf.keras.losses.SparseCategoricalCrossentropy(),\n",
        "                 optimizer=tf.keras.optimizers.Adam(lr=0.001), # ideal learning rate (same as default)\n",
        "                 metrics=[\"accuracy\"])\n",
        "\n",
        "# Fit the model\n",
        "model_3_history = model_3.fit(train_data,\n",
        "                       train_labels,\n",
        "                       epochs=25,\n",
        "                       validation_data=(test_data, test_labels))"
      ],
      "metadata": {
        "colab": {
          "base_uri": "https://localhost:8080/"
        },
        "id": "NQMH-IYDe060",
        "outputId": "1c38fbbc-7733-4d0c-e229-b72bfa740401"
      },
      "id": "NQMH-IYDe060",
      "execution_count": 36,
      "outputs": [
        {
          "output_type": "stream",
          "name": "stderr",
          "text": [
            "WARNING:absl:`lr` is deprecated in Keras optimizer, please use `learning_rate` or use the legacy optimizer, e.g.,tf.keras.optimizers.legacy.Adam.\n"
          ]
        },
        {
          "output_type": "stream",
          "name": "stdout",
          "text": [
            "Epoch 1/25\n",
            "1875/1875 [==============================] - 7s 3ms/step - loss: 0.5057 - accuracy: 0.8522 - val_loss: 0.3215 - val_accuracy: 0.9082\n",
            "Epoch 2/25\n",
            "1875/1875 [==============================] - 6s 3ms/step - loss: 0.2998 - accuracy: 0.9131 - val_loss: 0.2945 - val_accuracy: 0.9160\n",
            "Epoch 3/25\n",
            "1875/1875 [==============================] - 5s 3ms/step - loss: 0.2730 - accuracy: 0.9203 - val_loss: 0.2665 - val_accuracy: 0.9248\n",
            "Epoch 4/25\n",
            "1875/1875 [==============================] - 6s 3ms/step - loss: 0.2593 - accuracy: 0.9254 - val_loss: 0.2659 - val_accuracy: 0.9249\n",
            "Epoch 5/25\n",
            "1875/1875 [==============================] - 5s 3ms/step - loss: 0.2494 - accuracy: 0.9283 - val_loss: 0.2633 - val_accuracy: 0.9287\n",
            "Epoch 6/25\n",
            "1875/1875 [==============================] - 6s 3ms/step - loss: 0.2409 - accuracy: 0.9304 - val_loss: 0.2651 - val_accuracy: 0.9250\n",
            "Epoch 7/25\n",
            "1875/1875 [==============================] - 5s 3ms/step - loss: 0.2357 - accuracy: 0.9316 - val_loss: 0.2594 - val_accuracy: 0.9243\n",
            "Epoch 8/25\n",
            "1875/1875 [==============================] - 6s 3ms/step - loss: 0.2314 - accuracy: 0.9340 - val_loss: 0.2441 - val_accuracy: 0.9331\n",
            "Epoch 9/25\n",
            "1875/1875 [==============================] - 5s 3ms/step - loss: 0.2250 - accuracy: 0.9347 - val_loss: 0.2516 - val_accuracy: 0.9287\n",
            "Epoch 10/25\n",
            "1875/1875 [==============================] - 6s 3ms/step - loss: 0.2220 - accuracy: 0.9361 - val_loss: 0.2451 - val_accuracy: 0.9342\n",
            "Epoch 11/25\n",
            "1875/1875 [==============================] - 6s 3ms/step - loss: 0.2158 - accuracy: 0.9381 - val_loss: 0.2405 - val_accuracy: 0.9334\n",
            "Epoch 12/25\n",
            "1875/1875 [==============================] - 7s 4ms/step - loss: 0.2108 - accuracy: 0.9392 - val_loss: 0.2369 - val_accuracy: 0.9336\n",
            "Epoch 13/25\n",
            "1875/1875 [==============================] - 5s 3ms/step - loss: 0.2065 - accuracy: 0.9401 - val_loss: 0.2341 - val_accuracy: 0.9336\n",
            "Epoch 14/25\n",
            "1875/1875 [==============================] - 6s 3ms/step - loss: 0.2015 - accuracy: 0.9409 - val_loss: 0.2259 - val_accuracy: 0.9368\n",
            "Epoch 15/25\n",
            "1875/1875 [==============================] - 5s 3ms/step - loss: 0.1974 - accuracy: 0.9425 - val_loss: 0.2313 - val_accuracy: 0.9348\n",
            "Epoch 16/25\n",
            "1875/1875 [==============================] - 6s 3ms/step - loss: 0.1942 - accuracy: 0.9428 - val_loss: 0.2235 - val_accuracy: 0.9360\n",
            "Epoch 17/25\n",
            "1875/1875 [==============================] - 6s 3ms/step - loss: 0.1907 - accuracy: 0.9439 - val_loss: 0.2240 - val_accuracy: 0.9393\n",
            "Epoch 18/25\n",
            "1875/1875 [==============================] - 5s 3ms/step - loss: 0.1884 - accuracy: 0.9441 - val_loss: 0.2236 - val_accuracy: 0.9370\n",
            "Epoch 19/25\n",
            "1875/1875 [==============================] - 6s 3ms/step - loss: 0.1852 - accuracy: 0.9449 - val_loss: 0.2180 - val_accuracy: 0.9386\n",
            "Epoch 20/25\n",
            "1875/1875 [==============================] - 5s 3ms/step - loss: 0.1842 - accuracy: 0.9453 - val_loss: 0.2197 - val_accuracy: 0.9370\n",
            "Epoch 21/25\n",
            "1875/1875 [==============================] - 6s 3ms/step - loss: 0.1823 - accuracy: 0.9458 - val_loss: 0.2169 - val_accuracy: 0.9385\n",
            "Epoch 22/25\n",
            "1875/1875 [==============================] - 5s 3ms/step - loss: 0.1793 - accuracy: 0.9467 - val_loss: 0.2229 - val_accuracy: 0.9375\n",
            "Epoch 23/25\n",
            "1875/1875 [==============================] - 6s 3ms/step - loss: 0.1779 - accuracy: 0.9467 - val_loss: 0.2229 - val_accuracy: 0.9366\n",
            "Epoch 24/25\n",
            "1875/1875 [==============================] - 5s 3ms/step - loss: 0.1766 - accuracy: 0.9471 - val_loss: 0.2333 - val_accuracy: 0.9351\n",
            "Epoch 25/25\n",
            "1875/1875 [==============================] - 6s 3ms/step - loss: 0.1757 - accuracy: 0.9473 - val_loss: 0.2240 - val_accuracy: 0.9379\n"
          ]
        }
      ]
    },
    {
      "cell_type": "code",
      "source": [
        "model_3.summary()"
      ],
      "metadata": {
        "colab": {
          "base_uri": "https://localhost:8080/"
        },
        "id": "ukkmZQWde02K",
        "outputId": "b111bf6d-429b-490c-fb89-099a9a8b3156"
      },
      "id": "ukkmZQWde02K",
      "execution_count": 37,
      "outputs": [
        {
          "output_type": "stream",
          "name": "stdout",
          "text": [
            "Model: \"sequential_7\"\n",
            "_________________________________________________________________\n",
            " Layer (type)                Output Shape              Param #   \n",
            "=================================================================\n",
            " flatten_7 (Flatten)         (None, 784)               0         \n",
            "                                                                 \n",
            " dense_21 (Dense)            (None, 8)                 6280      \n",
            "                                                                 \n",
            " dense_22 (Dense)            (None, 16)                144       \n",
            "                                                                 \n",
            " dense_23 (Dense)            (None, 10)                170       \n",
            "                                                                 \n",
            "=================================================================\n",
            "Total params: 6,594\n",
            "Trainable params: 6,594\n",
            "Non-trainable params: 0\n",
            "_________________________________________________________________\n"
          ]
        }
      ]
    },
    {
      "cell_type": "code",
      "source": [
        "# Set random seed\n",
        "tf.random.set_seed(42)\n",
        "\n",
        "# Create the model\n",
        "model_4 = tf.keras.Sequential([\n",
        "  tf.keras.layers.Flatten(input_shape=(28, 28)), # input layer (we had to reshape 28x28 to 784)\n",
        "  tf.keras.layers.Dense(16, activation=\"relu\"),\n",
        "  tf.keras.layers.Dense(16, activation=\"relu\"),\n",
        "  tf.keras.layers.Dense(10, activation=\"softmax\") # output shape is 10, activation is softmax\n",
        "])\n",
        "\n",
        "# Compile the model\n",
        "model_4.compile(loss=tf.keras.losses.SparseCategoricalCrossentropy(),\n",
        "                 optimizer=tf.keras.optimizers.Adam(lr=0.001), # ideal learning rate (same as default)\n",
        "                 metrics=[\"accuracy\"])\n",
        "\n",
        "# Fit the model\n",
        "model_4_history = model_4.fit(train_data,\n",
        "                       train_labels,\n",
        "                       epochs=20,\n",
        "                       validation_data=(test_data, test_labels))"
      ],
      "metadata": {
        "colab": {
          "base_uri": "https://localhost:8080/"
        },
        "id": "3Av5GEzrfkJ9",
        "outputId": "9821d6db-5b1e-4f2f-8d32-c4f14cf6eba4"
      },
      "id": "3Av5GEzrfkJ9",
      "execution_count": 27,
      "outputs": [
        {
          "output_type": "stream",
          "name": "stderr",
          "text": [
            "WARNING:absl:`lr` is deprecated in Keras optimizer, please use `learning_rate` or use the legacy optimizer, e.g.,tf.keras.optimizers.legacy.Adam.\n"
          ]
        },
        {
          "output_type": "stream",
          "name": "stdout",
          "text": [
            "Epoch 1/20\n",
            "1875/1875 [==============================] - 7s 3ms/step - loss: 0.4918 - accuracy: 0.8555 - val_loss: 0.2802 - val_accuracy: 0.9189\n",
            "Epoch 2/20\n",
            "1875/1875 [==============================] - 5s 3ms/step - loss: 0.2546 - accuracy: 0.9267 - val_loss: 0.2330 - val_accuracy: 0.9335\n",
            "Epoch 3/20\n",
            "1875/1875 [==============================] - 6s 3ms/step - loss: 0.2070 - accuracy: 0.9408 - val_loss: 0.1908 - val_accuracy: 0.9417\n",
            "Epoch 4/20\n",
            "1875/1875 [==============================] - 5s 3ms/step - loss: 0.1810 - accuracy: 0.9477 - val_loss: 0.1810 - val_accuracy: 0.9446\n",
            "Epoch 5/20\n",
            "1875/1875 [==============================] - 6s 3ms/step - loss: 0.1645 - accuracy: 0.9515 - val_loss: 0.1799 - val_accuracy: 0.9478\n",
            "Epoch 6/20\n",
            "1875/1875 [==============================] - 5s 3ms/step - loss: 0.1511 - accuracy: 0.9557 - val_loss: 0.1560 - val_accuracy: 0.9542\n",
            "Epoch 7/20\n",
            "1875/1875 [==============================] - 6s 3ms/step - loss: 0.1420 - accuracy: 0.9585 - val_loss: 0.1546 - val_accuracy: 0.9547\n",
            "Epoch 8/20\n",
            "1875/1875 [==============================] - 5s 3ms/step - loss: 0.1361 - accuracy: 0.9590 - val_loss: 0.1596 - val_accuracy: 0.9528\n",
            "Epoch 9/20\n",
            "1875/1875 [==============================] - 6s 3ms/step - loss: 0.1285 - accuracy: 0.9621 - val_loss: 0.1583 - val_accuracy: 0.9543\n",
            "Epoch 10/20\n",
            "1875/1875 [==============================] - 5s 3ms/step - loss: 0.1244 - accuracy: 0.9626 - val_loss: 0.1558 - val_accuracy: 0.9549\n",
            "Epoch 11/20\n",
            "1875/1875 [==============================] - 6s 3ms/step - loss: 0.1197 - accuracy: 0.9637 - val_loss: 0.1456 - val_accuracy: 0.9556\n",
            "Epoch 12/20\n",
            "1875/1875 [==============================] - 6s 3ms/step - loss: 0.1170 - accuracy: 0.9649 - val_loss: 0.1517 - val_accuracy: 0.9564\n",
            "Epoch 13/20\n",
            "1875/1875 [==============================] - 6s 3ms/step - loss: 0.1133 - accuracy: 0.9658 - val_loss: 0.1608 - val_accuracy: 0.9556\n",
            "Epoch 14/20\n",
            "1875/1875 [==============================] - 6s 3ms/step - loss: 0.1104 - accuracy: 0.9661 - val_loss: 0.1580 - val_accuracy: 0.9532\n",
            "Epoch 15/20\n",
            "1875/1875 [==============================] - 6s 3ms/step - loss: 0.1078 - accuracy: 0.9671 - val_loss: 0.1487 - val_accuracy: 0.9562\n",
            "Epoch 16/20\n",
            "1875/1875 [==============================] - 6s 3ms/step - loss: 0.1055 - accuracy: 0.9677 - val_loss: 0.1537 - val_accuracy: 0.9574\n",
            "Epoch 17/20\n",
            "1875/1875 [==============================] - 5s 3ms/step - loss: 0.1031 - accuracy: 0.9689 - val_loss: 0.1466 - val_accuracy: 0.9572\n",
            "Epoch 18/20\n",
            "1875/1875 [==============================] - 6s 3ms/step - loss: 0.1009 - accuracy: 0.9693 - val_loss: 0.1529 - val_accuracy: 0.9575\n",
            "Epoch 19/20\n",
            "1875/1875 [==============================] - 5s 3ms/step - loss: 0.0998 - accuracy: 0.9697 - val_loss: 0.1493 - val_accuracy: 0.9575\n",
            "Epoch 20/20\n",
            "1875/1875 [==============================] - 6s 3ms/step - loss: 0.0973 - accuracy: 0.9698 - val_loss: 0.1443 - val_accuracy: 0.9569\n"
          ]
        }
      ]
    },
    {
      "cell_type": "code",
      "source": [
        "model_4.summary()"
      ],
      "metadata": {
        "colab": {
          "base_uri": "https://localhost:8080/"
        },
        "id": "z_AbYIewhZnw",
        "outputId": "2be76cd8-9684-4a3a-c67a-3a724a0bf032"
      },
      "id": "z_AbYIewhZnw",
      "execution_count": 28,
      "outputs": [
        {
          "output_type": "stream",
          "name": "stdout",
          "text": [
            "Model: \"sequential_4\"\n",
            "_________________________________________________________________\n",
            " Layer (type)                Output Shape              Param #   \n",
            "=================================================================\n",
            " flatten_4 (Flatten)         (None, 784)               0         \n",
            "                                                                 \n",
            " dense_12 (Dense)            (None, 16)                12560     \n",
            "                                                                 \n",
            " dense_13 (Dense)            (None, 16)                272       \n",
            "                                                                 \n",
            " dense_14 (Dense)            (None, 10)                170       \n",
            "                                                                 \n",
            "=================================================================\n",
            "Total params: 13,002\n",
            "Trainable params: 13,002\n",
            "Non-trainable params: 0\n",
            "_________________________________________________________________\n"
          ]
        }
      ]
    },
    {
      "cell_type": "code",
      "source": [
        "# Set random seed\n",
        "tf.random.set_seed(42)\n",
        "\n",
        "# Create the model\n",
        "model_5 = tf.keras.Sequential([\n",
        "  tf.keras.layers.Flatten(input_shape=(28, 28)), # input layer (we had to reshape 28x28 to 784)\n",
        "  tf.keras.layers.Dense(16, activation=\"relu\"),\n",
        "  tf.keras.layers.Dense(32, activation=\"relu\"),\n",
        "  tf.keras.layers.Dense(10, activation=\"softmax\") # output shape is 10, activation is softmax\n",
        "])\n",
        "\n",
        "# Compile the model\n",
        "model_5.compile(loss=tf.keras.losses.SparseCategoricalCrossentropy(),\n",
        "                 optimizer=tf.keras.optimizers.Adam(lr=0.001), # ideal learning rate (same as default)\n",
        "                 metrics=[\"accuracy\"])\n",
        "\n",
        "# Fit the model\n",
        "model_5_history = model_5.fit(train_data,\n",
        "                       train_labels,\n",
        "                       epochs=20,\n",
        "                       validation_data=(test_data, test_labels))"
      ],
      "metadata": {
        "colab": {
          "base_uri": "https://localhost:8080/"
        },
        "id": "FrgM334-f_fM",
        "outputId": "0c8ca0af-f031-4245-be82-3ee1094bfd11"
      },
      "id": "FrgM334-f_fM",
      "execution_count": 29,
      "outputs": [
        {
          "output_type": "stream",
          "name": "stderr",
          "text": [
            "WARNING:absl:`lr` is deprecated in Keras optimizer, please use `learning_rate` or use the legacy optimizer, e.g.,tf.keras.optimizers.legacy.Adam.\n"
          ]
        },
        {
          "output_type": "stream",
          "name": "stdout",
          "text": [
            "Epoch 1/20\n",
            "1875/1875 [==============================] - 7s 3ms/step - loss: 0.4007 - accuracy: 0.8828 - val_loss: 0.2481 - val_accuracy: 0.9268\n",
            "Epoch 2/20\n",
            "1875/1875 [==============================] - 5s 3ms/step - loss: 0.2266 - accuracy: 0.9330 - val_loss: 0.2053 - val_accuracy: 0.9398\n",
            "Epoch 3/20\n",
            "1875/1875 [==============================] - 6s 3ms/step - loss: 0.1888 - accuracy: 0.9440 - val_loss: 0.1719 - val_accuracy: 0.9479\n",
            "Epoch 4/20\n",
            "1875/1875 [==============================] - 6s 3ms/step - loss: 0.1679 - accuracy: 0.9501 - val_loss: 0.1673 - val_accuracy: 0.9490\n",
            "Epoch 5/20\n",
            "1875/1875 [==============================] - 6s 3ms/step - loss: 0.1536 - accuracy: 0.9547 - val_loss: 0.1656 - val_accuracy: 0.9515\n",
            "Epoch 6/20\n",
            "1875/1875 [==============================] - 5s 3ms/step - loss: 0.1426 - accuracy: 0.9572 - val_loss: 0.1545 - val_accuracy: 0.9545\n",
            "Epoch 7/20\n",
            "1875/1875 [==============================] - 6s 3ms/step - loss: 0.1339 - accuracy: 0.9600 - val_loss: 0.1543 - val_accuracy: 0.9534\n",
            "Epoch 8/20\n",
            "1875/1875 [==============================] - 5s 3ms/step - loss: 0.1273 - accuracy: 0.9619 - val_loss: 0.1467 - val_accuracy: 0.9547\n",
            "Epoch 9/20\n",
            "1875/1875 [==============================] - 6s 3ms/step - loss: 0.1199 - accuracy: 0.9643 - val_loss: 0.1517 - val_accuracy: 0.9544\n",
            "Epoch 10/20\n",
            "1875/1875 [==============================] - 6s 3ms/step - loss: 0.1147 - accuracy: 0.9661 - val_loss: 0.1459 - val_accuracy: 0.9548\n",
            "Epoch 11/20\n",
            "1875/1875 [==============================] - 6s 3ms/step - loss: 0.1087 - accuracy: 0.9678 - val_loss: 0.1466 - val_accuracy: 0.9553\n",
            "Epoch 12/20\n",
            "1875/1875 [==============================] - 6s 3ms/step - loss: 0.1027 - accuracy: 0.9693 - val_loss: 0.1439 - val_accuracy: 0.9578\n",
            "Epoch 13/20\n",
            "1875/1875 [==============================] - 6s 3ms/step - loss: 0.1005 - accuracy: 0.9696 - val_loss: 0.1519 - val_accuracy: 0.9560\n",
            "Epoch 14/20\n",
            "1875/1875 [==============================] - 6s 3ms/step - loss: 0.0971 - accuracy: 0.9711 - val_loss: 0.1558 - val_accuracy: 0.9547\n",
            "Epoch 15/20\n",
            "1875/1875 [==============================] - 5s 3ms/step - loss: 0.0931 - accuracy: 0.9722 - val_loss: 0.1452 - val_accuracy: 0.9579\n",
            "Epoch 16/20\n",
            "1875/1875 [==============================] - 6s 3ms/step - loss: 0.0911 - accuracy: 0.9723 - val_loss: 0.1452 - val_accuracy: 0.9585\n",
            "Epoch 17/20\n",
            "1875/1875 [==============================] - 5s 3ms/step - loss: 0.0882 - accuracy: 0.9727 - val_loss: 0.1488 - val_accuracy: 0.9588\n",
            "Epoch 18/20\n",
            "1875/1875 [==============================] - 6s 3ms/step - loss: 0.0860 - accuracy: 0.9734 - val_loss: 0.1457 - val_accuracy: 0.9577\n",
            "Epoch 19/20\n",
            "1875/1875 [==============================] - 5s 3ms/step - loss: 0.0829 - accuracy: 0.9747 - val_loss: 0.1466 - val_accuracy: 0.9596\n",
            "Epoch 20/20\n",
            "1875/1875 [==============================] - 6s 3ms/step - loss: 0.0816 - accuracy: 0.9748 - val_loss: 0.1437 - val_accuracy: 0.9594\n"
          ]
        }
      ]
    },
    {
      "cell_type": "code",
      "source": [
        "model_5.summary()"
      ],
      "metadata": {
        "colab": {
          "base_uri": "https://localhost:8080/"
        },
        "id": "Cs2jCkJehSuf",
        "outputId": "c75c2f8e-6834-499d-fd9d-257353c79b32"
      },
      "id": "Cs2jCkJehSuf",
      "execution_count": 30,
      "outputs": [
        {
          "output_type": "stream",
          "name": "stdout",
          "text": [
            "Model: \"sequential_5\"\n",
            "_________________________________________________________________\n",
            " Layer (type)                Output Shape              Param #   \n",
            "=================================================================\n",
            " flatten_5 (Flatten)         (None, 784)               0         \n",
            "                                                                 \n",
            " dense_15 (Dense)            (None, 16)                12560     \n",
            "                                                                 \n",
            " dense_16 (Dense)            (None, 32)                544       \n",
            "                                                                 \n",
            " dense_17 (Dense)            (None, 10)                330       \n",
            "                                                                 \n",
            "=================================================================\n",
            "Total params: 13,434\n",
            "Trainable params: 13,434\n",
            "Non-trainable params: 0\n",
            "_________________________________________________________________\n"
          ]
        }
      ]
    },
    {
      "cell_type": "code",
      "source": [
        "# Make predictions with the most recent model\n",
        "y_probs = model_5.predict(test_data) # \"probs\" is short for probabilities\n",
        "\n",
        "# View the first 5 predictions\n",
        "y_probs[:5]"
      ],
      "metadata": {
        "colab": {
          "base_uri": "https://localhost:8080/"
        },
        "id": "lYOrzwYohS49",
        "outputId": "d60fddaa-192c-4c8c-ea2a-069066472e30"
      },
      "id": "lYOrzwYohS49",
      "execution_count": 31,
      "outputs": [
        {
          "output_type": "stream",
          "name": "stdout",
          "text": [
            "313/313 [==============================] - 1s 1ms/step\n"
          ]
        },
        {
          "output_type": "execute_result",
          "data": {
            "text/plain": [
              "array([[2.3009349e-08, 2.0480458e-10, 6.0785652e-07, 9.5046407e-06,\n",
              "        3.5604231e-11, 1.0550890e-09, 5.1809170e-19, 9.9998748e-01,\n",
              "        2.6567887e-08, 2.3941689e-06],\n",
              "       [6.0869877e-12, 3.7325021e-06, 9.9970192e-01, 2.9395148e-04,\n",
              "        1.3191511e-15, 3.0958997e-08, 1.4961380e-07, 1.6995930e-12,\n",
              "        1.3819290e-07, 2.9742078e-13],\n",
              "       [1.3414324e-07, 9.9937016e-01, 7.6147720e-05, 5.2123046e-06,\n",
              "        2.9729676e-06, 2.9820669e-07, 2.3388920e-06, 3.1237508e-04,\n",
              "        2.3022181e-04, 2.2185667e-07],\n",
              "       [9.9711967e-01, 2.9821340e-08, 1.1540242e-03, 4.2255843e-04,\n",
              "        2.2589183e-10, 1.2329408e-04, 1.3814827e-08, 5.2755367e-04,\n",
              "        1.3129331e-06, 6.5148814e-04],\n",
              "       [4.6197747e-06, 8.8364523e-08, 3.5553927e-05, 1.1527956e-06,\n",
              "        9.9627727e-01, 1.1706492e-06, 2.1810067e-07, 5.2824830e-06,\n",
              "        1.0495118e-05, 3.6641012e-03]], dtype=float32)"
            ]
          },
          "metadata": {},
          "execution_count": 31
        }
      ]
    },
    {
      "cell_type": "code",
      "source": [
        "# See the predicted class number and label for the first example\n",
        "y_probs[0].argmax(), y_probs[0].argmax()"
      ],
      "metadata": {
        "colab": {
          "base_uri": "https://localhost:8080/"
        },
        "id": "M4PR_B2fhg8r",
        "outputId": "28d9cf41-33d2-4f53-87e9-86ae74b1ebed"
      },
      "id": "M4PR_B2fhg8r",
      "execution_count": 32,
      "outputs": [
        {
          "output_type": "execute_result",
          "data": {
            "text/plain": [
              "(7, 7)"
            ]
          },
          "metadata": {},
          "execution_count": 32
        }
      ]
    },
    {
      "cell_type": "code",
      "source": [
        "# Convert all of the predictions from probabilities to labels\n",
        "y_preds = y_probs.argmax(axis=1)\n",
        "\n",
        "# View the first 10 prediction labels\n",
        "y_preds[:10]"
      ],
      "metadata": {
        "colab": {
          "base_uri": "https://localhost:8080/"
        },
        "id": "Oes1-xE1hgzL",
        "outputId": "c33ba0e6-e59a-424a-b2c8-a3f5b8424233"
      },
      "id": "Oes1-xE1hgzL",
      "execution_count": 33,
      "outputs": [
        {
          "output_type": "execute_result",
          "data": {
            "text/plain": [
              "array([7, 2, 1, 0, 4, 1, 4, 9, 5, 9])"
            ]
          },
          "metadata": {},
          "execution_count": 33
        }
      ]
    }
  ],
  "metadata": {
    "kernelspec": {
      "display_name": "Python 3 (ipykernel)",
      "language": "python",
      "name": "python3"
    },
    "language_info": {
      "codemirror_mode": {
        "name": "ipython",
        "version": 3
      },
      "file_extension": ".py",
      "mimetype": "text/x-python",
      "name": "python",
      "nbconvert_exporter": "python",
      "pygments_lexer": "ipython3",
      "version": "3.9.7"
    },
    "colab": {
      "provenance": [],
      "gpuType": "T4"
    },
    "accelerator": "GPU",
    "gpuClass": "standard"
  },
  "nbformat": 4,
  "nbformat_minor": 5
}