{
  "cells": [
    {
      "cell_type": "markdown",
      "id": "bca6ae88",
      "metadata": {
        "id": "bca6ae88"
      },
      "source": [
        "### Placement Assignment Deep Learning "
      ]
    },
    {
      "cell_type": "markdown",
      "id": "3418da9d",
      "metadata": {
        "id": "3418da9d"
      },
      "source": [
        "#### Question 1 - Implement 3 different CNN architectures with a comparison table for the MNSIT dataset using the Tensorflow library.\n",
        "Note -    \n",
        "  1. The model parameters for each architecture should not be more than 8000 parameters\n",
        "  2. Code comments should be given for proper code understanding.\n",
        "  3. The minimum accuracy for each accuracy should be at least 96%"
      ]
    },
    {
      "cell_type": "code",
      "execution_count": 31,
      "id": "88abdc50",
      "metadata": {
        "id": "88abdc50"
      },
      "outputs": [],
      "source": [
        "import numpy as np\n",
        "import tensorflow as tf\n",
        "from tensorflow.keras.datasets import fashion_mnist\n",
        "from tensorflow.keras.models import Sequential\n",
        "from tensorflow.keras.layers import Conv2D, MaxPool2D, Flatten, Dense\n",
        "\n",
        "\n"
      ]
    },
    {
      "cell_type": "code",
      "execution_count": 32,
      "id": "3f815f6c",
      "metadata": {
        "id": "3f815f6c",
        "colab": {
          "base_uri": "https://localhost:8080/"
        },
        "outputId": "49d0a5e6-e729-4c1f-abdc-f5181374220a"
      },
      "outputs": [
        {
          "output_type": "stream",
          "name": "stdout",
          "text": [
            "Downloading data from https://storage.googleapis.com/tensorflow/tf-keras-datasets/train-labels-idx1-ubyte.gz\n",
            "29515/29515 [==============================] - 0s 0us/step\n",
            "Downloading data from https://storage.googleapis.com/tensorflow/tf-keras-datasets/train-images-idx3-ubyte.gz\n",
            "26421880/26421880 [==============================] - 0s 0us/step\n",
            "Downloading data from https://storage.googleapis.com/tensorflow/tf-keras-datasets/t10k-labels-idx1-ubyte.gz\n",
            "5148/5148 [==============================] - 0s 0us/step\n",
            "Downloading data from https://storage.googleapis.com/tensorflow/tf-keras-datasets/t10k-images-idx3-ubyte.gz\n",
            "4422102/4422102 [==============================] - 0s 0us/step\n"
          ]
        }
      ],
      "source": [
        "# The data has already been sorted into training and test sets for us\n",
        "(train_data, train_labels), (test_data, test_labels) = fashion_mnist.load_data()\n"
      ]
    },
    {
      "cell_type": "code",
      "source": [
        "train_data[0].shape, train_labels[0].shape"
      ],
      "metadata": {
        "id": "XDrnDWrbwiza",
        "colab": {
          "base_uri": "https://localhost:8080/"
        },
        "outputId": "761fe003-d09f-4cd2-b1f6-6ae339c67198"
      },
      "id": "XDrnDWrbwiza",
      "execution_count": 34,
      "outputs": [
        {
          "output_type": "execute_result",
          "data": {
            "text/plain": [
              "((28, 28), ())"
            ]
          },
          "metadata": {},
          "execution_count": 34
        }
      ]
    },
    {
      "cell_type": "code",
      "execution_count": 35,
      "id": "49060f3c",
      "metadata": {
        "id": "49060f3c",
        "colab": {
          "base_uri": "https://localhost:8080/",
          "height": 430
        },
        "outputId": "6c7af4af-9cd8-4938-be9a-6cb0cdec34dc"
      },
      "outputs": [
        {
          "output_type": "display_data",
          "data": {
            "text/plain": [
              "<Figure size 640x480 with 1 Axes>"
            ],
            "image/png": "[encoded data removed]"
          },
          "metadata": {}
        }
      ],
      "source": [
        "import matplotlib.pyplot as plt\n",
        "plt.imshow(train_data[7]);"
      ]
    },
    {
      "cell_type": "code",
      "execution_count": 37,
      "id": "689dc732",
      "metadata": {
        "id": "689dc732",
        "colab": {
          "base_uri": "https://localhost:8080/"
        },
        "outputId": "53342d61-9302-453d-b602-b990967b50ad"
      },
      "outputs": [
        {
          "output_type": "execute_result",
          "data": {
            "text/plain": [
              "2"
            ]
          },
          "metadata": {},
          "execution_count": 37
        }
      ],
      "source": [
        "train_labels[7]"
      ]
    },
    {
      "cell_type": "code",
      "execution_count": 38,
      "id": "52bf5ed4",
      "metadata": {
        "id": "52bf5ed4",
        "colab": {
          "base_uri": "https://localhost:8080/"
        },
        "outputId": "94a04b99-2860-44bb-a05e-48873cbbcb11"
      },
      "outputs": [
        {
          "output_type": "execute_result",
          "data": {
            "text/plain": [
              "10"
            ]
          },
          "metadata": {},
          "execution_count": 38
        }
      ],
      "source": [
        "class_names = ['T-shirt/top', 'Trouser', 'Pullover', 'Dress', 'Coat', 'Sandal', 'Shirt', 'Sneaker', 'Bag', 'Ankle boot']\n",
        "\n",
        "# How many classes are there (this'll be our output shape)?\n",
        "len(class_names)"
      ]
    },
    {
      "cell_type": "code",
      "source": [
        "plt.imshow(train_data[17], cmap=plt.cm.binary) # change the colours to black & white\n",
        "plt.title(class_names[train_labels[17]]);"
      ],
      "metadata": {
        "colab": {
          "base_uri": "https://localhost:8080/",
          "height": 452
        },
        "id": "hBxSowxaeXAk",
        "outputId": "eb4f7603-34a6-4001-bfb4-e6266ea4eeef"
      },
      "id": "hBxSowxaeXAk",
      "execution_count": 39,
      "outputs": [
        {
          "output_type": "display_data",
          "data": {
            "text/plain": [
              "<Figure size 640x480 with 1 Axes>"
            ],
            "image/png": "[encoded data removed]"
          },
          "metadata": {}
        }
      ]
    },
    {
      "cell_type": "code",
      "source": [
        "import random\n",
        "plt.figure(figsize=(7, 7))\n",
        "for i in range(4):\n",
        "  ax = plt.subplot(2, 2, i + 1)\n",
        "  rand_index = random.choice(range(len(train_data)))\n",
        "  plt.imshow(train_data[rand_index], cmap=plt.cm.binary)\n",
        "  plt.title(class_names[train_labels[rand_index]])\n",
        "  plt.axis(False)"
      ],
      "metadata": {
        "colab": {
          "base_uri": "https://localhost:8080/",
          "height": 598
        },
        "id": "BttSldpTeW8a",
        "outputId": "360e90c0-37d5-4b2a-b6b1-73f56de52a7e"
      },
      "id": "BttSldpTeW8a",
      "execution_count": 40,
      "outputs": [
        {
          "output_type": "display_data",
          "data": {
            "text/plain": [
              "<Figure size 700x700 with 4 Axes>"
            ],
            "image/png": "[encoded data removed]"
          },
          "metadata": {}
        }
      ]
    },
    {
      "cell_type": "code",
      "source": [
        "# Set random seed\n",
        "tf.random.set_seed(42)\n",
        "\n",
        "# Create the model\n",
        "model_1 = tf.keras.Sequential([\n",
        "  tf.keras.layers.Flatten(input_shape=(28, 28)), # input layer (we had to reshape 28x28 to 784, the Flatten layer does this for us)\n",
        "  tf.keras.layers.Dense(4, activation=\"relu\"),\n",
        "  tf.keras.layers.Dense(4, activation=\"relu\"),\n",
        "  tf.keras.layers.Dense(10, activation=\"softmax\") # output shape is 10, activation is softmax\n",
        "])\n",
        "\n",
        "# Compile the model\n",
        "model_1.compile(loss=tf.keras.losses.SparseCategoricalCrossentropy(), # different loss function for multiclass classifcation\n",
        "                 optimizer=tf.keras.optimizers.Adam(),\n",
        "                 metrics=[\"accuracy\"])\n",
        "\n",
        "# Fit the model\n",
        "model_1_history = model_1.fit(train_data,\n",
        "                                train_labels,\n",
        "                                epochs=10,\n",
        "                                validation_data=(test_data, test_labels)) "
      ],
      "metadata": {
        "colab": {
          "base_uri": "https://localhost:8080/"
        },
        "id": "EGdyY_kseW2r",
        "outputId": "adb4dfef-3443-45fb-e791-b620c9b33671"
      },
      "id": "EGdyY_kseW2r",
      "execution_count": 41,
      "outputs": [
        {
          "output_type": "stream",
          "name": "stdout",
          "text": [
            "Epoch 1/10\n",
            "1875/1875 [==============================] - 8s 3ms/step - loss: 2.2972 - accuracy: 0.1813 - val_loss: 2.0275 - val_accuracy: 0.2027\n",
            "Epoch 2/10\n",
            "1875/1875 [==============================] - 5s 3ms/step - loss: 1.9951 - accuracy: 0.2163 - val_loss: 1.9546 - val_accuracy: 0.2220\n",
            "Epoch 3/10\n",
            "1875/1875 [==============================] - 7s 3ms/step - loss: 1.7781 - accuracy: 0.2927 - val_loss: 1.5615 - val_accuracy: 0.3613\n",
            "Epoch 4/10\n",
            "1875/1875 [==============================] - 6s 3ms/step - loss: 1.4555 - accuracy: 0.3992 - val_loss: 1.3692 - val_accuracy: 0.4328\n",
            "Epoch 5/10\n",
            "1875/1875 [==============================] - 8s 4ms/step - loss: 1.3410 - accuracy: 0.4308 - val_loss: 1.3184 - val_accuracy: 0.4341\n",
            "Epoch 6/10\n",
            "1875/1875 [==============================] - 7s 4ms/step - loss: 1.2920 - accuracy: 0.4387 - val_loss: 1.2723 - val_accuracy: 0.4507\n",
            "Epoch 7/10\n",
            "1875/1875 [==============================] - 6s 3ms/step - loss: 1.2756 - accuracy: 0.4447 - val_loss: 1.3033 - val_accuracy: 0.4416\n",
            "Epoch 8/10\n",
            "1875/1875 [==============================] - 5s 3ms/step - loss: 1.2675 - accuracy: 0.4476 - val_loss: 1.2695 - val_accuracy: 0.4517\n",
            "Epoch 9/10\n",
            "1875/1875 [==============================] - 7s 4ms/step - loss: 1.2648 - accuracy: 0.4523 - val_loss: 1.2475 - val_accuracy: 0.4548\n",
            "Epoch 10/10\n",
            "1875/1875 [==============================] - 6s 3ms/step - loss: 1.2591 - accuracy: 0.4511 - val_loss: 1.2643 - val_accuracy: 0.4524\n"
          ]
        }
      ]
    },
    {
      "cell_type": "code",
      "source": [
        "model_1.summary()"
      ],
      "metadata": {
        "colab": {
          "base_uri": "https://localhost:8080/"
        },
        "id": "J9y6sZqVeWu0",
        "outputId": "5b2b87d1-275c-4bed-aa28-8ffd2bb48e1c"
      },
      "id": "J9y6sZqVeWu0",
      "execution_count": 42,
      "outputs": [
        {
          "output_type": "stream",
          "name": "stdout",
          "text": [
            "Model: \"sequential_4\"\n",
            "_________________________________________________________________\n",
            " Layer (type)                Output Shape              Param #   \n",
            "=================================================================\n",
            " flatten_5 (Flatten)         (None, 784)               0         \n",
            "                                                                 \n",
            " dense_4 (Dense)             (None, 4)                 3140      \n",
            "                                                                 \n",
            " dense_5 (Dense)             (None, 4)                 20        \n",
            "                                                                 \n",
            " dense_6 (Dense)             (None, 10)                50        \n",
            "                                                                 \n",
            "=================================================================\n",
            "Total params: 3,210\n",
            "Trainable params: 3,210\n",
            "Non-trainable params: 0\n",
            "_________________________________________________________________\n"
          ]
        }
      ]
    },
    {
      "cell_type": "code",
      "source": [
        "# Check the min and max values of the training data\n",
        "train_data.min(), train_data.max()"
      ],
      "metadata": {
        "colab": {
          "base_uri": "https://localhost:8080/"
        },
        "id": "e_Y7UY4ge1Ha",
        "outputId": "0137ca38-78fd-4045-aa79-cf2bf13a58c2"
      },
      "id": "e_Y7UY4ge1Ha",
      "execution_count": 43,
      "outputs": [
        {
          "output_type": "execute_result",
          "data": {
            "text/plain": [
              "(0, 255)"
            ]
          },
          "metadata": {},
          "execution_count": 43
        }
      ]
    },
    {
      "cell_type": "code",
      "source": [
        "# Divide train and test images by the maximum value (normalize it)\n",
        "train_data = train_data / 255.0\n",
        "test_data = test_data / 255.0\n",
        "\n",
        "# Check the min and max values of the training data\n",
        "train_data.min(), train_data.max()"
      ],
      "metadata": {
        "colab": {
          "base_uri": "https://localhost:8080/"
        },
        "id": "5LSbkvIle1Ej",
        "outputId": "72d40b24-0a4e-4bff-cf26-81ff3c6270a1"
      },
      "id": "5LSbkvIle1Ej",
      "execution_count": 44,
      "outputs": [
        {
          "output_type": "execute_result",
          "data": {
            "text/plain": [
              "(0.0, 1.0)"
            ]
          },
          "metadata": {},
          "execution_count": 44
        }
      ]
    },
    {
      "cell_type": "code",
      "source": [
        "# Set random seed\n",
        "tf.random.set_seed(42)\n",
        "\n",
        "# Create the model\n",
        "model_2 = tf.keras.Sequential([\n",
        "  tf.keras.layers.Flatten(input_shape=(28, 28)), # input layer (we had to reshape 28x28 to 784)\n",
        "  tf.keras.layers.Dense(4, activation=\"relu\"),\n",
        "  tf.keras.layers.Dense(4, activation=\"relu\"),\n",
        "  tf.keras.layers.Dense(10, activation=\"softmax\") # output shape is 10, activation is softmax\n",
        "])\n",
        "\n",
        "# Compile the model\n",
        "model_2.compile(loss=tf.keras.losses.SparseCategoricalCrossentropy(),\n",
        "                 optimizer=tf.keras.optimizers.Adam(),\n",
        "                 metrics=[\"accuracy\"])\n",
        "\n",
        "# Fit the model (to the normalized data)\n",
        "model_2_history = model_2.fit(train_data,\n",
        "                            train_labels,\n",
        "                            epochs=10,\n",
        "                            validation_data=(test_data, test_labels))"
      ],
      "metadata": {
        "colab": {
          "base_uri": "https://localhost:8080/"
        },
        "id": "JDvoigRce1CC",
        "outputId": "0216d4e1-4123-4974-b528-3c07ea2e8e29"
      },
      "id": "JDvoigRce1CC",
      "execution_count": 45,
      "outputs": [
        {
          "output_type": "stream",
          "name": "stdout",
          "text": [
            "Epoch 1/10\n",
            "1875/1875 [==============================] - 8s 4ms/step - loss: 1.1420 - accuracy: 0.6399 - val_loss: 0.8605 - val_accuracy: 0.7417\n",
            "Epoch 2/10\n",
            "1875/1875 [==============================] - 6s 3ms/step - loss: 0.7778 - accuracy: 0.7558 - val_loss: 0.7469 - val_accuracy: 0.7517\n",
            "Epoch 3/10\n",
            "1875/1875 [==============================] - 6s 3ms/step - loss: 0.6903 - accuracy: 0.7660 - val_loss: 0.6946 - val_accuracy: 0.7532\n",
            "Epoch 4/10\n",
            "1875/1875 [==============================] - 5s 3ms/step - loss: 0.6409 - accuracy: 0.7750 - val_loss: 0.6516 - val_accuracy: 0.7696\n",
            "Epoch 5/10\n",
            "1875/1875 [==============================] - 7s 3ms/step - loss: 0.6141 - accuracy: 0.7798 - val_loss: 0.6318 - val_accuracy: 0.7693\n",
            "Epoch 6/10\n",
            "1875/1875 [==============================] - 5s 3ms/step - loss: 0.5937 - accuracy: 0.7861 - val_loss: 0.6226 - val_accuracy: 0.7724\n",
            "Epoch 7/10\n",
            "1875/1875 [==============================] - 6s 3ms/step - loss: 0.5786 - accuracy: 0.7921 - val_loss: 0.6115 - val_accuracy: 0.7805\n",
            "Epoch 8/10\n",
            "1875/1875 [==============================] - 6s 3ms/step - loss: 0.5633 - accuracy: 0.7974 - val_loss: 0.5775 - val_accuracy: 0.7956\n",
            "Epoch 9/10\n",
            "1875/1875 [==============================] - 6s 3ms/step - loss: 0.5457 - accuracy: 0.8034 - val_loss: 0.5797 - val_accuracy: 0.7962\n",
            "Epoch 10/10\n",
            "1875/1875 [==============================] - 5s 3ms/step - loss: 0.5348 - accuracy: 0.8083 - val_loss: 0.5634 - val_accuracy: 0.8015\n"
          ]
        }
      ]
    },
    {
      "cell_type": "code",
      "source": [
        "model_2.summary()"
      ],
      "metadata": {
        "colab": {
          "base_uri": "https://localhost:8080/"
        },
        "id": "_tZydFw8e0_C",
        "outputId": "3a051930-5f2e-4671-e0f6-32852d38de30"
      },
      "id": "_tZydFw8e0_C",
      "execution_count": 46,
      "outputs": [
        {
          "output_type": "stream",
          "name": "stdout",
          "text": [
            "Model: \"sequential_5\"\n",
            "_________________________________________________________________\n",
            " Layer (type)                Output Shape              Param #   \n",
            "=================================================================\n",
            " flatten_6 (Flatten)         (None, 784)               0         \n",
            "                                                                 \n",
            " dense_7 (Dense)             (None, 4)                 3140      \n",
            "                                                                 \n",
            " dense_8 (Dense)             (None, 4)                 20        \n",
            "                                                                 \n",
            " dense_9 (Dense)             (None, 10)                50        \n",
            "                                                                 \n",
            "=================================================================\n",
            "Total params: 3,210\n",
            "Trainable params: 3,210\n",
            "Non-trainable params: 0\n",
            "_________________________________________________________________\n"
          ]
        }
      ]
    },
    {
      "cell_type": "code",
      "source": [
        "# Set random seed\n",
        "tf.random.set_seed(42)\n",
        "\n",
        "# Create the model\n",
        "model_3 = tf.keras.Sequential([\n",
        "  tf.keras.layers.Flatten(input_shape=(28, 28)), # input layer (we had to reshape 28x28 to 784)\n",
        "  tf.keras.layers.Dense(8, activation=\"relu\"),\n",
        "  tf.keras.layers.Dense(16, activation=\"relu\"),\n",
        "  tf.keras.layers.Dense(10, activation=\"softmax\") # output shape is 10, activation is softmax\n",
        "])\n",
        "\n",
        "# Compile the model\n",
        "model_3.compile(loss=tf.keras.losses.SparseCategoricalCrossentropy(),\n",
        "                 optimizer=tf.keras.optimizers.Adam(lr=0.001), # ideal learning rate (same as default)\n",
        "                 metrics=[\"accuracy\"])\n",
        "\n",
        "# Fit the model\n",
        "model_3_history = model_3.fit(train_data,\n",
        "                       train_labels,\n",
        "                       epochs=20,\n",
        "                       validation_data=(test_data, test_labels))"
      ],
      "metadata": {
        "colab": {
          "base_uri": "https://localhost:8080/"
        },
        "id": "NQMH-IYDe060",
        "outputId": "503d5ad0-4589-4253-dcec-c2ef00842769"
      },
      "id": "NQMH-IYDe060",
      "execution_count": 50,
      "outputs": [
        {
          "output_type": "stream",
          "name": "stderr",
          "text": [
            "WARNING:absl:`lr` is deprecated in Keras optimizer, please use `learning_rate` or use the legacy optimizer, e.g.,tf.keras.optimizers.legacy.Adam.\n"
          ]
        },
        {
          "output_type": "stream",
          "name": "stdout",
          "text": [
            "Epoch 1/20\n",
            "1875/1875 [==============================] - 7s 3ms/step - loss: 0.6946 - accuracy: 0.7591 - val_loss: 0.5392 - val_accuracy: 0.8087\n",
            "Epoch 2/20\n",
            "1875/1875 [==============================] - 6s 3ms/step - loss: 0.4921 - accuracy: 0.8272 - val_loss: 0.5206 - val_accuracy: 0.8156\n",
            "Epoch 3/20\n",
            "1875/1875 [==============================] - 5s 3ms/step - loss: 0.4568 - accuracy: 0.8400 - val_loss: 0.4900 - val_accuracy: 0.8254\n",
            "Epoch 4/20\n",
            "1875/1875 [==============================] - 6s 3ms/step - loss: 0.4336 - accuracy: 0.8490 - val_loss: 0.4636 - val_accuracy: 0.8381\n",
            "Epoch 5/20\n",
            "1875/1875 [==============================] - 5s 3ms/step - loss: 0.4220 - accuracy: 0.8522 - val_loss: 0.4657 - val_accuracy: 0.8318\n",
            "Epoch 6/20\n",
            "1875/1875 [==============================] - 7s 4ms/step - loss: 0.4124 - accuracy: 0.8556 - val_loss: 0.4790 - val_accuracy: 0.8334\n",
            "Epoch 7/20\n",
            "1875/1875 [==============================] - 5s 3ms/step - loss: 0.4051 - accuracy: 0.8579 - val_loss: 0.4604 - val_accuracy: 0.8393\n",
            "Epoch 8/20\n",
            "1875/1875 [==============================] - 6s 3ms/step - loss: 0.3982 - accuracy: 0.8604 - val_loss: 0.4353 - val_accuracy: 0.8506\n",
            "Epoch 9/20\n",
            "1875/1875 [==============================] - 5s 3ms/step - loss: 0.3944 - accuracy: 0.8612 - val_loss: 0.4338 - val_accuracy: 0.8488\n",
            "Epoch 10/20\n",
            "1875/1875 [==============================] - 6s 3ms/step - loss: 0.3916 - accuracy: 0.8617 - val_loss: 0.4340 - val_accuracy: 0.8468\n",
            "Epoch 11/20\n",
            "1875/1875 [==============================] - 5s 3ms/step - loss: 0.3870 - accuracy: 0.8626 - val_loss: 0.4300 - val_accuracy: 0.8486\n",
            "Epoch 12/20\n",
            "1875/1875 [==============================] - 7s 4ms/step - loss: 0.3830 - accuracy: 0.8648 - val_loss: 0.4290 - val_accuracy: 0.8508\n",
            "Epoch 13/20\n",
            "1875/1875 [==============================] - 5s 3ms/step - loss: 0.3800 - accuracy: 0.8648 - val_loss: 0.4285 - val_accuracy: 0.8499\n",
            "Epoch 14/20\n",
            "1875/1875 [==============================] - 6s 3ms/step - loss: 0.3789 - accuracy: 0.8659 - val_loss: 0.4262 - val_accuracy: 0.8508\n",
            "Epoch 15/20\n",
            "1875/1875 [==============================] - 6s 3ms/step - loss: 0.3761 - accuracy: 0.8673 - val_loss: 0.4380 - val_accuracy: 0.8473\n",
            "Epoch 16/20\n",
            "1875/1875 [==============================] - 6s 3ms/step - loss: 0.3731 - accuracy: 0.8673 - val_loss: 0.4427 - val_accuracy: 0.8432\n",
            "Epoch 17/20\n",
            "1875/1875 [==============================] - 6s 3ms/step - loss: 0.3700 - accuracy: 0.8694 - val_loss: 0.4299 - val_accuracy: 0.8502\n",
            "Epoch 18/20\n",
            "1875/1875 [==============================] - 5s 3ms/step - loss: 0.3696 - accuracy: 0.8688 - val_loss: 0.4205 - val_accuracy: 0.8528\n",
            "Epoch 19/20\n",
            "1875/1875 [==============================] - 6s 3ms/step - loss: 0.3686 - accuracy: 0.8687 - val_loss: 0.4312 - val_accuracy: 0.8496\n",
            "Epoch 20/20\n",
            "1875/1875 [==============================] - 5s 3ms/step - loss: 0.3651 - accuracy: 0.8702 - val_loss: 0.4244 - val_accuracy: 0.8526\n"
          ]
        }
      ]
    },
    {
      "cell_type": "code",
      "source": [
        "model_3.summary()"
      ],
      "metadata": {
        "colab": {
          "base_uri": "https://localhost:8080/"
        },
        "id": "ukkmZQWde02K",
        "outputId": "68483ef2-8436-4725-9a76-4d83622bae3c"
      },
      "id": "ukkmZQWde02K",
      "execution_count": 51,
      "outputs": [
        {
          "output_type": "stream",
          "name": "stdout",
          "text": [
            "Model: \"sequential_8\"\n",
            "_________________________________________________________________\n",
            " Layer (type)                Output Shape              Param #   \n",
            "=================================================================\n",
            " flatten_9 (Flatten)         (None, 784)               0         \n",
            "                                                                 \n",
            " dense_16 (Dense)            (None, 8)                 6280      \n",
            "                                                                 \n",
            " dense_17 (Dense)            (None, 16)                144       \n",
            "                                                                 \n",
            " dense_18 (Dense)            (None, 10)                170       \n",
            "                                                                 \n",
            "=================================================================\n",
            "Total params: 6,594\n",
            "Trainable params: 6,594\n",
            "Non-trainable params: 0\n",
            "_________________________________________________________________\n"
          ]
        }
      ]
    },
    {
      "cell_type": "code",
      "source": [
        "# Set random seed\n",
        "tf.random.set_seed(42)\n",
        "\n",
        "# Create the model\n",
        "model_4 = tf.keras.Sequential([\n",
        "  tf.keras.layers.Flatten(input_shape=(28, 28)), # input layer (we had to reshape 28x28 to 784)\n",
        "  tf.keras.layers.Dense(16, activation=\"relu\"),\n",
        "  tf.keras.layers.Dense(16, activation=\"relu\"),\n",
        "  tf.keras.layers.Dense(10, activation=\"softmax\") # output shape is 10, activation is softmax\n",
        "])\n",
        "\n",
        "# Compile the model\n",
        "model_4.compile(loss=tf.keras.losses.SparseCategoricalCrossentropy(),\n",
        "                 optimizer=tf.keras.optimizers.Adam(lr=0.001), # ideal learning rate (same as default)\n",
        "                 metrics=[\"accuracy\"])\n",
        "\n",
        "# Fit the model\n",
        "model_4_history = model_4.fit(train_data,\n",
        "                       train_labels,\n",
        "                       epochs=20,\n",
        "                       validation_data=(test_data, test_labels))"
      ],
      "metadata": {
        "colab": {
          "base_uri": "https://localhost:8080/"
        },
        "id": "3Av5GEzrfkJ9",
        "outputId": "197bee8e-cfd1-420b-d0a4-2c0b7312416e"
      },
      "id": "3Av5GEzrfkJ9",
      "execution_count": 52,
      "outputs": [
        {
          "output_type": "stream",
          "name": "stderr",
          "text": [
            "WARNING:absl:`lr` is deprecated in Keras optimizer, please use `learning_rate` or use the legacy optimizer, e.g.,tf.keras.optimizers.legacy.Adam.\n"
          ]
        },
        {
          "output_type": "stream",
          "name": "stdout",
          "text": [
            "Epoch 1/20\n",
            "1875/1875 [==============================] - 7s 3ms/step - loss: 0.6710 - accuracy: 0.7635 - val_loss: 0.4923 - val_accuracy: 0.8273\n",
            "Epoch 2/20\n",
            "1875/1875 [==============================] - 6s 3ms/step - loss: 0.4556 - accuracy: 0.8397 - val_loss: 0.4813 - val_accuracy: 0.8318\n",
            "Epoch 3/20\n",
            "1875/1875 [==============================] - 5s 3ms/step - loss: 0.4200 - accuracy: 0.8527 - val_loss: 0.4516 - val_accuracy: 0.8362\n",
            "Epoch 4/20\n",
            "1875/1875 [==============================] - 6s 3ms/step - loss: 0.4017 - accuracy: 0.8586 - val_loss: 0.4539 - val_accuracy: 0.8412\n",
            "Epoch 5/20\n",
            "1875/1875 [==============================] - 5s 3ms/step - loss: 0.3919 - accuracy: 0.8615 - val_loss: 0.4538 - val_accuracy: 0.8374\n",
            "Epoch 6/20\n",
            "1875/1875 [==============================] - 6s 3ms/step - loss: 0.3822 - accuracy: 0.8642 - val_loss: 0.4509 - val_accuracy: 0.8436\n",
            "Epoch 7/20\n",
            "1875/1875 [==============================] - 5s 3ms/step - loss: 0.3767 - accuracy: 0.8665 - val_loss: 0.4434 - val_accuracy: 0.8437\n",
            "Epoch 8/20\n",
            "1875/1875 [==============================] - 6s 3ms/step - loss: 0.3702 - accuracy: 0.8688 - val_loss: 0.4116 - val_accuracy: 0.8574\n",
            "Epoch 9/20\n",
            "1875/1875 [==============================] - 6s 3ms/step - loss: 0.3649 - accuracy: 0.8711 - val_loss: 0.4107 - val_accuracy: 0.8545\n",
            "Epoch 10/20\n",
            "1875/1875 [==============================] - 5s 3ms/step - loss: 0.3614 - accuracy: 0.8705 - val_loss: 0.4209 - val_accuracy: 0.8508\n",
            "Epoch 11/20\n",
            "1875/1875 [==============================] - 8s 4ms/step - loss: 0.3578 - accuracy: 0.8700 - val_loss: 0.4110 - val_accuracy: 0.8532\n",
            "Epoch 12/20\n",
            "1875/1875 [==============================] - 9s 5ms/step - loss: 0.3531 - accuracy: 0.8732 - val_loss: 0.4105 - val_accuracy: 0.8545\n",
            "Epoch 13/20\n",
            "1875/1875 [==============================] - 7s 4ms/step - loss: 0.3495 - accuracy: 0.8744 - val_loss: 0.4009 - val_accuracy: 0.8573\n",
            "Epoch 14/20\n",
            "1875/1875 [==============================] - 6s 3ms/step - loss: 0.3459 - accuracy: 0.8769 - val_loss: 0.4058 - val_accuracy: 0.8551\n",
            "Epoch 15/20\n",
            "1875/1875 [==============================] - 6s 3ms/step - loss: 0.3438 - accuracy: 0.8760 - val_loss: 0.4214 - val_accuracy: 0.8529\n",
            "Epoch 16/20\n",
            "1875/1875 [==============================] - 8s 4ms/step - loss: 0.3409 - accuracy: 0.8766 - val_loss: 0.4096 - val_accuracy: 0.8531\n",
            "Epoch 17/20\n",
            "1875/1875 [==============================] - 7s 4ms/step - loss: 0.3374 - accuracy: 0.8771 - val_loss: 0.4088 - val_accuracy: 0.8519\n",
            "Epoch 18/20\n",
            "1875/1875 [==============================] - 5s 3ms/step - loss: 0.3361 - accuracy: 0.8781 - val_loss: 0.3961 - val_accuracy: 0.8595\n",
            "Epoch 19/20\n",
            "1875/1875 [==============================] - 6s 3ms/step - loss: 0.3335 - accuracy: 0.8795 - val_loss: 0.4168 - val_accuracy: 0.8534\n",
            "Epoch 20/20\n",
            "1875/1875 [==============================] - 7s 4ms/step - loss: 0.3312 - accuracy: 0.8804 - val_loss: 0.4159 - val_accuracy: 0.8523\n"
          ]
        }
      ]
    },
    {
      "cell_type": "code",
      "source": [
        "model_4.summary()"
      ],
      "metadata": {
        "colab": {
          "base_uri": "https://localhost:8080/"
        },
        "id": "z_AbYIewhZnw",
        "outputId": "b7c13572-d389-41a0-ebd8-a6e080cd5418"
      },
      "id": "z_AbYIewhZnw",
      "execution_count": 54,
      "outputs": [
        {
          "output_type": "stream",
          "name": "stdout",
          "text": [
            "Model: \"sequential_9\"\n",
            "_________________________________________________________________\n",
            " Layer (type)                Output Shape              Param #   \n",
            "=================================================================\n",
            " flatten_10 (Flatten)        (None, 784)               0         \n",
            "                                                                 \n",
            " dense_19 (Dense)            (None, 16)                12560     \n",
            "                                                                 \n",
            " dense_20 (Dense)            (None, 16)                272       \n",
            "                                                                 \n",
            " dense_21 (Dense)            (None, 10)                170       \n",
            "                                                                 \n",
            "=================================================================\n",
            "Total params: 13,002\n",
            "Trainable params: 13,002\n",
            "Non-trainable params: 0\n",
            "_________________________________________________________________\n"
          ]
        }
      ]
    },
    {
      "cell_type": "code",
      "source": [
        "# Set random seed\n",
        "tf.random.set_seed(42)\n",
        "\n",
        "# Create the model\n",
        "model_5 = tf.keras.Sequential([\n",
        "  tf.keras.layers.Flatten(input_shape=(28, 28)), # input layer (we had to reshape 28x28 to 784)\n",
        "  tf.keras.layers.Dense(16, activation=\"relu\"),\n",
        "  tf.keras.layers.Dense(32, activation=\"relu\"),\n",
        "  tf.keras.layers.Dense(10, activation=\"softmax\") # output shape is 10, activation is softmax\n",
        "])\n",
        "\n",
        "# Compile the model\n",
        "model_5.compile(loss=tf.keras.losses.SparseCategoricalCrossentropy(),\n",
        "                 optimizer=tf.keras.optimizers.Adam(lr=0.001), # ideal learning rate (same as default)\n",
        "                 metrics=[\"accuracy\"])\n",
        "\n",
        "# Fit the model\n",
        "model_5_history = model_5.fit(train_data,\n",
        "                       train_labels,\n",
        "                       epochs=20,\n",
        "                       validation_data=(test_data, test_labels))"
      ],
      "metadata": {
        "colab": {
          "base_uri": "https://localhost:8080/"
        },
        "id": "FrgM334-f_fM",
        "outputId": "7c274f1c-d150-48a1-bbcf-7de0fb8b703c"
      },
      "id": "FrgM334-f_fM",
      "execution_count": 53,
      "outputs": [
        {
          "output_type": "stream",
          "name": "stderr",
          "text": [
            "WARNING:absl:`lr` is deprecated in Keras optimizer, please use `learning_rate` or use the legacy optimizer, e.g.,tf.keras.optimizers.legacy.Adam.\n"
          ]
        },
        {
          "output_type": "stream",
          "name": "stdout",
          "text": [
            "Epoch 1/20\n",
            "1875/1875 [==============================] - 8s 3ms/step - loss: 0.6168 - accuracy: 0.7818 - val_loss: 0.4883 - val_accuracy: 0.8264\n",
            "Epoch 2/20\n",
            "1875/1875 [==============================] - 5s 3ms/step - loss: 0.4312 - accuracy: 0.8450 - val_loss: 0.4898 - val_accuracy: 0.8308\n",
            "Epoch 3/20\n",
            "1875/1875 [==============================] - 7s 4ms/step - loss: 0.3986 - accuracy: 0.8557 - val_loss: 0.4276 - val_accuracy: 0.8454\n",
            "Epoch 4/20\n",
            "1875/1875 [==============================] - 5s 3ms/step - loss: 0.3824 - accuracy: 0.8623 - val_loss: 0.4288 - val_accuracy: 0.8471\n",
            "Epoch 5/20\n",
            "1875/1875 [==============================] - 6s 3ms/step - loss: 0.3700 - accuracy: 0.8650 - val_loss: 0.4308 - val_accuracy: 0.8448\n",
            "Epoch 6/20\n",
            "1875/1875 [==============================] - 5s 3ms/step - loss: 0.3599 - accuracy: 0.8683 - val_loss: 0.4055 - val_accuracy: 0.8547\n",
            "Epoch 7/20\n",
            "1875/1875 [==============================] - 6s 3ms/step - loss: 0.3518 - accuracy: 0.8724 - val_loss: 0.4181 - val_accuracy: 0.8477\n",
            "Epoch 8/20\n",
            "1875/1875 [==============================] - 5s 3ms/step - loss: 0.3426 - accuracy: 0.8750 - val_loss: 0.4023 - val_accuracy: 0.8562\n",
            "Epoch 9/20\n",
            "1875/1875 [==============================] - 6s 3ms/step - loss: 0.3370 - accuracy: 0.8779 - val_loss: 0.3861 - val_accuracy: 0.8646\n",
            "Epoch 10/20\n",
            "1875/1875 [==============================] - 5s 3ms/step - loss: 0.3323 - accuracy: 0.8790 - val_loss: 0.3916 - val_accuracy: 0.8613\n",
            "Epoch 11/20\n",
            "1875/1875 [==============================] - 6s 3ms/step - loss: 0.3285 - accuracy: 0.8801 - val_loss: 0.3866 - val_accuracy: 0.8630\n",
            "Epoch 12/20\n",
            "1875/1875 [==============================] - 6s 3ms/step - loss: 0.3228 - accuracy: 0.8820 - val_loss: 0.3888 - val_accuracy: 0.8639\n",
            "Epoch 13/20\n",
            "1875/1875 [==============================] - 6s 3ms/step - loss: 0.3205 - accuracy: 0.8833 - val_loss: 0.4001 - val_accuracy: 0.8605\n",
            "Epoch 14/20\n",
            "1875/1875 [==============================] - 6s 3ms/step - loss: 0.3162 - accuracy: 0.8841 - val_loss: 0.3925 - val_accuracy: 0.8657\n",
            "Epoch 15/20\n",
            "1875/1875 [==============================] - 5s 3ms/step - loss: 0.3118 - accuracy: 0.8860 - val_loss: 0.3869 - val_accuracy: 0.8618\n",
            "Epoch 16/20\n",
            "1875/1875 [==============================] - 6s 3ms/step - loss: 0.3087 - accuracy: 0.8870 - val_loss: 0.3921 - val_accuracy: 0.8641\n",
            "Epoch 17/20\n",
            "1875/1875 [==============================] - 5s 3ms/step - loss: 0.3060 - accuracy: 0.8869 - val_loss: 0.3787 - val_accuracy: 0.8678\n",
            "Epoch 18/20\n",
            "1875/1875 [==============================] - 7s 3ms/step - loss: 0.3046 - accuracy: 0.8866 - val_loss: 0.3716 - val_accuracy: 0.8737\n",
            "Epoch 19/20\n",
            "1875/1875 [==============================] - 6s 3ms/step - loss: 0.3013 - accuracy: 0.8891 - val_loss: 0.3918 - val_accuracy: 0.8606\n",
            "Epoch 20/20\n",
            "1875/1875 [==============================] - 6s 3ms/step - loss: 0.2975 - accuracy: 0.8908 - val_loss: 0.3785 - val_accuracy: 0.8697\n"
          ]
        }
      ]
    },
    {
      "cell_type": "code",
      "source": [
        "model_5.summary()"
      ],
      "metadata": {
        "colab": {
          "base_uri": "https://localhost:8080/"
        },
        "id": "Cs2jCkJehSuf",
        "outputId": "e424a1ef-c319-4535-f0ea-a44efe9bf3eb"
      },
      "id": "Cs2jCkJehSuf",
      "execution_count": 57,
      "outputs": [
        {
          "output_type": "stream",
          "name": "stdout",
          "text": [
            "Model: \"sequential_10\"\n",
            "_________________________________________________________________\n",
            " Layer (type)                Output Shape              Param #   \n",
            "=================================================================\n",
            " flatten_11 (Flatten)        (None, 784)               0         \n",
            "                                                                 \n",
            " dense_22 (Dense)            (None, 16)                12560     \n",
            "                                                                 \n",
            " dense_23 (Dense)            (None, 32)                544       \n",
            "                                                                 \n",
            " dense_24 (Dense)            (None, 10)                330       \n",
            "                                                                 \n",
            "=================================================================\n",
            "Total params: 13,434\n",
            "Trainable params: 13,434\n",
            "Non-trainable params: 0\n",
            "_________________________________________________________________\n"
          ]
        }
      ]
    },
    {
      "cell_type": "code",
      "source": [
        "# Make predictions with the most recent model\n",
        "y_probs = model_5.predict(test_data) # \"probs\" is short for probabilities\n",
        "\n",
        "# View the first 5 predictions\n",
        "y_probs[:5]"
      ],
      "metadata": {
        "colab": {
          "base_uri": "https://localhost:8080/"
        },
        "id": "lYOrzwYohS49",
        "outputId": "a774aed3-0875-4eca-9354-6fb56ff0573c"
      },
      "id": "lYOrzwYohS49",
      "execution_count": 55,
      "outputs": [
        {
          "output_type": "stream",
          "name": "stdout",
          "text": [
            "313/313 [==============================] - 0s 1ms/step\n"
          ]
        },
        {
          "output_type": "execute_result",
          "data": {
            "text/plain": [
              "array([[2.4721312e-06, 1.2443785e-08, 1.6733896e-06, 4.6348413e-07,\n",
              "        4.8799791e-08, 1.7843610e-02, 9.9231940e-08, 5.3386480e-02,\n",
              "        1.9303094e-04, 9.2857212e-01],\n",
              "       [8.5838932e-05, 1.6649102e-08, 9.6370870e-01, 2.8061541e-07,\n",
              "        3.5060398e-02, 5.2228623e-19, 1.1431626e-03, 2.3659949e-26,\n",
              "        1.6989983e-06, 1.3065013e-27],\n",
              "       [8.4498760e-07, 9.9999917e-01, 3.4404726e-10, 2.3941464e-08,\n",
              "        8.4489049e-10, 3.0328141e-18, 5.3644206e-10, 9.7798131e-26,\n",
              "        1.2142324e-11, 1.0034251e-26],\n",
              "       [1.3584246e-05, 9.9998128e-01, 1.0576283e-07, 4.6900655e-06,\n",
              "        1.8918384e-07, 7.0671690e-15, 1.5805259e-07, 1.4310490e-20,\n",
              "        4.4571871e-09, 3.4798760e-18],\n",
              "       [1.3093641e-01, 2.6917383e-03, 1.9915229e-01, 4.6620745e-02,\n",
              "        8.7599427e-02, 4.8370464e-11, 5.2835619e-01, 3.1289625e-16,\n",
              "        4.6431357e-03, 1.9961620e-10]], dtype=float32)"
            ]
          },
          "metadata": {},
          "execution_count": 55
        }
      ]
    },
    {
      "cell_type": "code",
      "source": [
        "# See the predicted class number and label for the first example\n",
        "y_probs[0].argmax(), class_names[y_probs[0].argmax()]"
      ],
      "metadata": {
        "colab": {
          "base_uri": "https://localhost:8080/"
        },
        "id": "M4PR_B2fhg8r",
        "outputId": "e5075be9-68d2-4508-b833-8cd51a693549"
      },
      "id": "M4PR_B2fhg8r",
      "execution_count": 56,
      "outputs": [
        {
          "output_type": "execute_result",
          "data": {
            "text/plain": [
              "(9, 'Ankle boot')"
            ]
          },
          "metadata": {},
          "execution_count": 56
        }
      ]
    },
    {
      "cell_type": "code",
      "source": [
        "# Convert all of the predictions from probabilities to labels\n",
        "y_preds = y_probs.argmax(axis=1)\n",
        "\n",
        "# View the first 10 prediction labels\n",
        "y_preds[:10]"
      ],
      "metadata": {
        "colab": {
          "base_uri": "https://localhost:8080/"
        },
        "id": "Oes1-xE1hgzL",
        "outputId": "50737c62-caee-48c0-9c42-8843d8226195"
      },
      "id": "Oes1-xE1hgzL",
      "execution_count": 58,
      "outputs": [
        {
          "output_type": "execute_result",
          "data": {
            "text/plain": [
              "array([9, 2, 1, 1, 6, 1, 4, 6, 5, 7])"
            ]
          },
          "metadata": {},
          "execution_count": 58
        }
      ]
    }
  ],
  "metadata": {
    "kernelspec": {
      "display_name": "Python 3 (ipykernel)",
      "language": "python",
      "name": "python3"
    },
    "language_info": {
      "codemirror_mode": {
        "name": "ipython",
        "version": 3
      },
      "file_extension": ".py",
      "mimetype": "text/x-python",
      "name": "python",
      "nbconvert_exporter": "python",
      "pygments_lexer": "ipython3",
      "version": "3.9.7"
    },
    "colab": {
      "provenance": [],
      "gpuType": "T4"
    },
    "accelerator": "GPU",
    "gpuClass": "standard"
  },
  "nbformat": 4,
  "nbformat_minor": 5
}